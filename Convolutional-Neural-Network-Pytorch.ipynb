{
 "cells": [
  {
   "cell_type": "markdown",
   "metadata": {},
   "source": [
    "## Training a Convolutional Neural Network (CNN) on MNIST Dataset\n",
    "\n",
    "We begin with building a CNN network for image classification task on MNIST dataset. In the first part of the tutorial, we will try to understand the MNIST digit classfication dataset. Then we'll understand how to build a CNN network, define an appropiate loss, and train the network with back-propagation. Finally, we will use the trained model to test on a test dataset."
   ]
  },
  {
   "cell_type": "markdown",
   "metadata": {},
   "source": [
    "**Step 1:** We need to import all the required libraries"
   ]
  },
  {
   "cell_type": "code",
   "execution_count": 1,
   "metadata": {},
   "outputs": [
    {
     "name": "stdout",
     "output_type": "stream",
     "text": [
      "Using PyTorch version: 0.4.0 CUDA: False\n"
     ]
    }
   ],
   "source": [
    "%matplotlib inline\n",
    "\n",
    "import torch\n",
    "import torch.nn as nn\n",
    "import torch.nn.functional as F\n",
    "import torch.optim as optim\n",
    "from torchvision import datasets, transforms\n",
    "from torch.autograd import Variable\n",
    "\n",
    "import numpy as np\n",
    "import matplotlib.pyplot as plt\n",
    "\n",
    "\n",
    "cuda = torch.cuda.is_available()\n",
    "print('Using PyTorch version:', torch.__version__, 'CUDA:', cuda)"
   ]
  },
  {
   "cell_type": "markdown",
   "metadata": {},
   "source": [
    "**Step 2:** We need to load the MNIST data. In this tutorial, we'll be using Pytorch's dataloader to load and format the MNIST dataset. First time we may have to download the dataset, which may take a while. \n",
    "\n",
    "For more details, please refer: \n",
    "- https://pytorch.org/docs/0.3.0/data.html?highlight=dataloader#torch.utils.data.DataLoader\n",
    "- https://pytorch.org/docs/0.3.0/torchvision/datasets.html?highlight=dataset"
   ]
  },
  {
   "cell_type": "code",
   "execution_count": 2,
   "metadata": {},
   "outputs": [],
   "source": [
    "batch_size = 10 # no. of examples to be processed at once on GPU\n",
    "\n",
    "# Define the dataloader\n",
    "train_loader = torch.utils.data.DataLoader(\n",
    "    datasets.MNIST('/tmp/step/data', train=True, download=True,\n",
    "                   transform=transforms.Compose([\n",
    "                       transforms.ToTensor(),\n",
    "                       transforms.Normalize((0.1307,), (0.3081,)),\n",
    "                       \n",
    "                   ])),\n",
    "    batch_size=batch_size, shuffle=True)\n",
    "\n",
    "test_loader = torch.utils.data.DataLoader(\n",
    "    datasets.MNIST('/tmp/step/data', train=False, transform=transforms.Compose([\n",
    "                       transforms.ToTensor(),\n",
    "                       transforms.Normalize((0.1307,), (0.3081,))\n",
    "                   ])),\n",
    "    batch_size=batch_size, shuffle=False)"
   ]
  },
  {
   "cell_type": "markdown",
   "metadata": {},
   "source": [
    "**Step 3:** Visualize the dataset\n",
    "\n",
    "- MNIST is a simple computer vision dataset. It consists of 28x28 pixel images of handwritten digits\n",
    "- The train and test data are provided via data loaders that provide iterators over the datasets. \n",
    "- The first element of training data (X_train) is a 4th-order tensor of size (batch_size, 1, 28, 28), i.e. it consists of a batch of images of size 1x28x28 pixels. \n",
    "- y_train is a vector containing the correct classes (\"0\", \"1\", ..., \"9\") for each training digit.\n",
    "\n",
    "For more visualizations and to get more insight on the MNIST dataset you may refer to this link: http://colah.github.io/posts/2014-10-Visualizing-MNIST/"
   ]
  },
  {
   "cell_type": "code",
   "execution_count": 3,
   "metadata": {},
   "outputs": [
    {
     "name": "stdout",
     "output_type": "stream",
     "text": [
      "No. of Training examples: 60000\n",
      "No. of Testing examples: 10000\n",
      "X_train: torch.Size([10, 1, 28, 28]) type: torch.FloatTensor\n",
      "y_train: torch.Size([10]) type: torch.LongTensor\n"
     ]
    }
   ],
   "source": [
    "print(\"No. of Training examples:\", len(train_loader)*batch_size)\n",
    "print(\"No. of Testing examples:\", len(test_loader)*batch_size)\n",
    "for (X_train, y_train) in train_loader:\n",
    "    print('X_train:', X_train.size(), 'type:', X_train.type())\n",
    "    print('y_train:', y_train.size(), 'type:', y_train.type())\n",
    "    break"
   ]
  },
  {
   "cell_type": "markdown",
   "metadata": {},
   "source": [
    "Here are the first 10 digits"
   ]
  },
  {
   "cell_type": "code",
   "execution_count": 4,
   "metadata": {},
   "outputs": [
    {
     "name": "stderr",
     "output_type": "stream",
     "text": [
      "/home/pratik/.virtualenvs/ml/lib/python3.6/site-packages/ipykernel_launcher.py:8: UserWarning: invalid index of a 0-dim tensor. This will be an error in PyTorch 0.5. Use tensor.item() to convert a 0-dim tensor to a Python number\n",
      "  \n"
     ]
    },
    {
     "data": {
      "image/png": "[encoded data removed]",
      "text/plain": [
       "<Figure size 720x72 with 10 Axes>"
      ]
     },
     "metadata": {},
     "output_type": "display_data"
    }
   ],
   "source": [
    "pltsize=1\n",
    "plt.figure(figsize=(10*pltsize, pltsize))\n",
    "\n",
    "for i in range(10):\n",
    "    plt.subplot(1,10,i+1)\n",
    "    plt.axis('off')\n",
    "    plt.imshow(X_train[i,:,:,:].numpy().reshape(28,28), cmap=\"gray\")\n",
    "    plt.gca().set_title('\\n Class: '+str(y_train[i].data[0].numpy()))\n",
    "    "
   ]
  },
  {
   "cell_type": "markdown",
   "metadata": {},
   "source": [
    "**Step 3:** Define the MLP network\n",
    "\n",
    "![alt text](mnist_lenet.jpg \"Logo Title Text 1\")\n",
    "\n",
    "\n",
    "- Here, we define a single layer MLP network (you are free to add few more layers)\n",
    "- We have to write the \\__init__() and forward() methods\n",
    "- Pytorch will automatically generate the gradients when we call the backward() method for backward pass\n"
   ]
  },
  {
   "cell_type": "code",
   "execution_count": 5,
   "metadata": {},
   "outputs": [],
   "source": [
    "class LeNet(nn.Module):\n",
    "    def __init__(self):\n",
    "        super(LeNet, self).__init__()\n",
    "        self.conv1 = nn.Conv2d(1, 20, 5)\n",
    "        self.conv2 = nn.Conv2d(20, 50, 5)\n",
    "        self.fc1   = nn.Linear(50*4*4, 500)\n",
    "        self.fc2   = nn.Linear(500, 10)\n",
    "        \n",
    "\n",
    "    def forward(self, x):\n",
    "        out = F.relu(self.conv1(x))\n",
    "        out = F.max_pool2d(out, 2)\n",
    "        out = F.relu(self.conv2(out))\n",
    "        out = F.max_pool2d(out, 2)\n",
    "        out = out.view(out.size(0), -1)\n",
    "        out = F.relu(self.fc1(out))\n",
    "        out = self.fc2(out)\n",
    "        \n",
    "        return out\n",
    "\n",
    "model = LeNet()\n",
    "if cuda:\n",
    "    model.cuda()"
   ]
  },
  {
   "cell_type": "markdown",
   "metadata": {},
   "source": [
    "**Step 4:** Define an optimizer\n",
    "You can change the optimizers. Refer to the following links to know more about the available optimizers- https://pytorch.org/docs/0.3.0/optim.html#algorithms.\n",
    "\n",
    "Here, we are using Stochastic Gradient Descent (SGD)\n"
   ]
  },
  {
   "cell_type": "code",
   "execution_count": 6,
   "metadata": {},
   "outputs": [],
   "source": [
    "optimizer = optim.SGD(model.parameters(), lr=0.01, momentum=0.5)"
   ]
  },
  {
   "cell_type": "markdown",
   "metadata": {},
   "source": [
    "**Step 5:** Define a suitable loss function.\n",
    "\n",
    "    We will be using the Cross-Entropy loss function.     \n",
    "    https://pytorch.org/docs/0.3.0/nn.html?highlight=cross%20entropy#torch.nn.functional.cross_entropy"
   ]
  },
  {
   "cell_type": "code",
   "execution_count": 7,
   "metadata": {},
   "outputs": [],
   "source": [
    "loss_func = nn.CrossEntropyLoss()"
   ]
  },
  {
   "cell_type": "markdown",
   "metadata": {},
   "source": [
    "**Step 6:** Training method. We will use this method to train our model"
   ]
  },
  {
   "cell_type": "code",
   "execution_count": 8,
   "metadata": {},
   "outputs": [],
   "source": [
    "def train(epoch, log_interval=1000):\n",
    "    model.train()\n",
    "    for batch_idx, (data, target) in enumerate(train_loader):\n",
    "        if cuda:\n",
    "            data, target = data.cuda(), target.cuda()\n",
    "        data, target = Variable(data), Variable(target)\n",
    "        optimizer.zero_grad()\n",
    "        output = model(data)\n",
    "        loss = loss_func(output, target)\n",
    "        loss.backward()\n",
    "        optimizer.step()\n",
    "        if batch_idx % log_interval == 0:\n",
    "            print('Train Epoch: {} [{}/{} ({:.0f}%)]\\tLoss: {:.6f}'.format(\n",
    "                epoch, batch_idx * len(data), len(train_loader.dataset),\n",
    "                100. * batch_idx / len(train_loader), loss.data[0]))"
   ]
  },
  {
   "cell_type": "code",
   "execution_count": 9,
   "metadata": {},
   "outputs": [],
   "source": [
    "def test(loss_vector, accuracy_vector):\n",
    "    model.eval()\n",
    "    val_loss, correct = 0, 0\n",
    "    for data, target in test_loader:\n",
    "        if cuda:\n",
    "            data, target = data.cuda(), target.cuda()\n",
    "        data, target = Variable(data), Variable(target)\n",
    "        output = model(data)\n",
    "        val_loss += loss_func(output, target).data[0]\n",
    "        pred = output.data.max(1)[1] # get the index of the max log-probability\n",
    "        correct += pred.eq(target.data).cpu().sum()\n",
    "\n",
    "    val_loss /= len(test_loader)\n",
    "    loss_vector.append(val_loss)\n",
    "\n",
    "    accuracy = 100. * correct / len(test_loader.dataset)\n",
    "    accuracy_vector.append(accuracy)\n",
    "    \n",
    "    print('\\nValidation set: Average loss: {:.4f}, Accuracy: {}/{} ({:.4f}%)\\n'.format(\n",
    "        val_loss, correct, len(test_loader.dataset), accuracy))"
   ]
  },
  {
   "cell_type": "markdown",
   "metadata": {},
   "source": [
    "**Step 7:** Now, we are ready to train our first ever modelusing the train() function. \n",
    "\n",
    "Epoch: An epoch means  one pass through the whole training data. After each epoch, we'll evaluate our model on the test dataset."
   ]
  },
  {
   "cell_type": "code",
   "execution_count": 10,
   "metadata": {},
   "outputs": [
    {
     "name": "stderr",
     "output_type": "stream",
     "text": [
      "/home/pratik/.virtualenvs/ml/lib/python3.6/site-packages/ipykernel_launcher.py:15: UserWarning: invalid index of a 0-dim tensor. This will be an error in PyTorch 0.5. Use tensor.item() to convert a 0-dim tensor to a Python number\n",
      "  from ipykernel import kernelapp as app\n"
     ]
    },
    {
     "name": "stdout",
     "output_type": "stream",
     "text": [
      "Train Epoch: 1 [0/60000 (0%)]\tLoss: 2.306702\n",
      "Train Epoch: 1 [10000/60000 (17%)]\tLoss: 0.038506\n",
      "Train Epoch: 1 [20000/60000 (33%)]\tLoss: 0.738053\n",
      "Train Epoch: 1 [30000/60000 (50%)]\tLoss: 0.009625\n",
      "Train Epoch: 1 [40000/60000 (67%)]\tLoss: 0.088170\n",
      "Train Epoch: 1 [50000/60000 (83%)]\tLoss: 0.042360\n"
     ]
    },
    {
     "name": "stderr",
     "output_type": "stream",
     "text": [
      "/home/pratik/.virtualenvs/ml/lib/python3.6/site-packages/ipykernel_launcher.py:9: UserWarning: invalid index of a 0-dim tensor. This will be an error in PyTorch 0.5. Use tensor.item() to convert a 0-dim tensor to a Python number\n",
      "  if __name__ == '__main__':\n"
     ]
    },
    {
     "name": "stdout",
     "output_type": "stream",
     "text": [
      "\n",
      "Validation set: Average loss: 0.0516, Accuracy: 9827/10000 (98.0000%)\n",
      "\n",
      "Train Epoch: 2 [0/60000 (0%)]\tLoss: 0.012695\n",
      "Train Epoch: 2 [10000/60000 (17%)]\tLoss: 0.014897\n",
      "Train Epoch: 2 [20000/60000 (33%)]\tLoss: 0.003447\n",
      "Train Epoch: 2 [30000/60000 (50%)]\tLoss: 0.000420\n",
      "Train Epoch: 2 [40000/60000 (67%)]\tLoss: 0.000199\n",
      "Train Epoch: 2 [50000/60000 (83%)]\tLoss: 0.007916\n",
      "\n",
      "Validation set: Average loss: 0.0358, Accuracy: 9883/10000 (98.0000%)\n",
      "\n",
      "Train Epoch: 3 [0/60000 (0%)]\tLoss: 0.021275\n",
      "Train Epoch: 3 [10000/60000 (17%)]\tLoss: 0.000293\n",
      "Train Epoch: 3 [20000/60000 (33%)]\tLoss: 0.000273\n",
      "Train Epoch: 3 [30000/60000 (50%)]\tLoss: 0.030022\n",
      "Train Epoch: 3 [40000/60000 (67%)]\tLoss: 0.000224\n",
      "Train Epoch: 3 [50000/60000 (83%)]\tLoss: 0.000638\n",
      "\n",
      "Validation set: Average loss: 0.0289, Accuracy: 9903/10000 (99.0000%)\n",
      "\n",
      "Train Epoch: 4 [0/60000 (0%)]\tLoss: 0.002193\n",
      "Train Epoch: 4 [10000/60000 (17%)]\tLoss: 0.000112\n",
      "Train Epoch: 4 [20000/60000 (33%)]\tLoss: 0.004332\n",
      "Train Epoch: 4 [30000/60000 (50%)]\tLoss: 0.002510\n",
      "Train Epoch: 4 [40000/60000 (67%)]\tLoss: 0.003054\n",
      "Train Epoch: 4 [50000/60000 (83%)]\tLoss: 0.001616\n",
      "\n",
      "Validation set: Average loss: 0.0312, Accuracy: 9891/10000 (98.0000%)\n",
      "\n",
      "Train Epoch: 5 [0/60000 (0%)]\tLoss: 0.001627\n",
      "Train Epoch: 5 [10000/60000 (17%)]\tLoss: 0.002776\n",
      "Train Epoch: 5 [20000/60000 (33%)]\tLoss: 0.000482\n",
      "Train Epoch: 5 [30000/60000 (50%)]\tLoss: 0.002392\n",
      "Train Epoch: 5 [40000/60000 (67%)]\tLoss: 0.008612\n",
      "Train Epoch: 5 [50000/60000 (83%)]\tLoss: 0.000020\n",
      "\n",
      "Validation set: Average loss: 0.0251, Accuracy: 9920/10000 (99.0000%)\n",
      "\n",
      "Train Epoch: 6 [0/60000 (0%)]\tLoss: 0.000390\n",
      "Train Epoch: 6 [10000/60000 (17%)]\tLoss: 0.000961\n",
      "Train Epoch: 6 [20000/60000 (33%)]\tLoss: 0.000151\n",
      "Train Epoch: 6 [30000/60000 (50%)]\tLoss: 0.062275\n",
      "Train Epoch: 6 [40000/60000 (67%)]\tLoss: 0.000157\n",
      "Train Epoch: 6 [50000/60000 (83%)]\tLoss: 0.006322\n",
      "\n",
      "Validation set: Average loss: 0.0244, Accuracy: 9922/10000 (99.0000%)\n",
      "\n",
      "Train Epoch: 7 [0/60000 (0%)]\tLoss: 0.000005\n",
      "Train Epoch: 7 [10000/60000 (17%)]\tLoss: 0.000022\n",
      "Train Epoch: 7 [20000/60000 (33%)]\tLoss: 0.000016\n",
      "Train Epoch: 7 [30000/60000 (50%)]\tLoss: 0.000001\n",
      "Train Epoch: 7 [40000/60000 (67%)]\tLoss: 0.000055\n",
      "Train Epoch: 7 [50000/60000 (83%)]\tLoss: 0.000017\n",
      "\n",
      "Validation set: Average loss: 0.0248, Accuracy: 9928/10000 (99.0000%)\n",
      "\n",
      "Train Epoch: 8 [0/60000 (0%)]\tLoss: 0.000585\n",
      "Train Epoch: 8 [10000/60000 (17%)]\tLoss: 0.000051\n",
      "Train Epoch: 8 [20000/60000 (33%)]\tLoss: 0.001608\n",
      "Train Epoch: 8 [30000/60000 (50%)]\tLoss: 0.025119\n",
      "Train Epoch: 8 [40000/60000 (67%)]\tLoss: 0.000006\n",
      "Train Epoch: 8 [50000/60000 (83%)]\tLoss: 0.069661\n",
      "\n",
      "Validation set: Average loss: 0.0272, Accuracy: 9925/10000 (99.0000%)\n",
      "\n",
      "Train Epoch: 9 [0/60000 (0%)]\tLoss: 0.002534\n",
      "Train Epoch: 9 [10000/60000 (17%)]\tLoss: 0.000237\n",
      "Train Epoch: 9 [20000/60000 (33%)]\tLoss: 0.000101\n",
      "Train Epoch: 9 [30000/60000 (50%)]\tLoss: 0.000236\n",
      "Train Epoch: 9 [40000/60000 (67%)]\tLoss: 0.001067\n",
      "Train Epoch: 9 [50000/60000 (83%)]\tLoss: 0.000322\n",
      "\n",
      "Validation set: Average loss: 0.0256, Accuracy: 9937/10000 (99.0000%)\n",
      "\n",
      "Train Epoch: 10 [0/60000 (0%)]\tLoss: 0.017246\n",
      "Train Epoch: 10 [10000/60000 (17%)]\tLoss: 0.000001\n",
      "Train Epoch: 10 [20000/60000 (33%)]\tLoss: 0.000020\n",
      "Train Epoch: 10 [30000/60000 (50%)]\tLoss: 0.001067\n",
      "Train Epoch: 10 [40000/60000 (67%)]\tLoss: 0.000329\n",
      "Train Epoch: 10 [50000/60000 (83%)]\tLoss: 0.020802\n",
      "\n",
      "Validation set: Average loss: 0.0282, Accuracy: 9932/10000 (99.0000%)\n",
      "\n",
      "CPU times: user 1h 9min 41s, sys: 15.5 s, total: 1h 9min 57s\n",
      "Wall time: 10min 44s\n"
     ]
    }
   ],
   "source": [
    "%%time\n",
    "epochs = 10\n",
    "\n",
    "lossv, accv = [], [] # used to keep track of train progress (used in the next cell)\n",
    "for epoch in range(1, epochs + 1):\n",
    "    train(epoch)\n",
    "    test(lossv, accv)\n"
   ]
  },
  {
   "cell_type": "markdown",
   "metadata": {},
   "source": [
    "**Step 8:** Now, as training is done, let us visualizae the training progress graphically"
   ]
  },
  {
   "cell_type": "code",
   "execution_count": 11,
   "metadata": {},
   "outputs": [
    {
     "data": {
      "image/png": "[encoded data removed]",
      "text/plain": [
       "<Figure size 360x216 with 1 Axes>"
      ]
     },
     "metadata": {},
     "output_type": "display_data"
    },
    {
     "data": {
      "image/png": "[encoded data removed]",
      "text/plain": [
       "<Figure size 360x216 with 1 Axes>"
      ]
     },
     "metadata": {},
     "output_type": "display_data"
    }
   ],
   "source": [
    "plt.figure(figsize=(5,3))\n",
    "plt.plot(np.arange(1,epochs+1), lossv)\n",
    "plt.title('validation loss')\n",
    "\n",
    "plt.figure(figsize=(5,3))\n",
    "plt.plot(np.arange(1,epochs+1), accv)\n",
    "plt.title('validation accuracy');\n"
   ]
  },
  {
   "cell_type": "code",
   "execution_count": 13,
   "metadata": {},
   "outputs": [
    {
     "data": {
      "image/png": "[encoded data removed]",
      "text/plain": [
       "<Figure size 720x72 with 10 Axes>"
      ]
     },
     "metadata": {},
     "output_type": "display_data"
    }
   ],
   "source": [
    "pltsize=1\n",
    "plt.figure(figsize=(10*pltsize, pltsize))\n",
    "\n",
    "X_test, y_test = iter(test_loader).next()\n",
    "predicted_labels = model(Variable(X_test))\n",
    "                         \n",
    "for i in range(10):\n",
    "    plt.subplot(1,10,i+1)\n",
    "    plt.axis('off')\n",
    "    plt.imshow(X_test[i,:,:,:].numpy().reshape(28,28), cmap=\"gray\")\n",
    "    plt.gca().set_title('\\n Class: '+str(predicted_labels.cpu().data.max(1)[1][i].data.numpy()))"
   ]
  }
 ],
 "metadata": {
  "kernelspec": {
   "display_name": "Python 3",
   "language": "python",
   "name": "python3"
  },
  "language_info": {
   "codemirror_mode": {
    "name": "ipython",
    "version": 3
   },
   "file_extension": ".py",
   "mimetype": "text/x-python",
   "name": "python",
   "nbconvert_exporter": "python",
   "pygments_lexer": "ipython3",
   "version": "3.6.5"
  }
 },
 "nbformat": 4,
 "nbformat_minor": 2
}
