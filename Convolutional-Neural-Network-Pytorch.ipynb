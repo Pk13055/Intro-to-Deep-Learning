{
 "cells": [
  {
   "cell_type": "markdown",
   "metadata": {},
   "source": [
    "## Training a Convolutional Neural Network (CNN) on MNIST Dataset\n",
    "\n",
    "We begin with building a CNN network for image classification task on MNIST dataset. In the first part of the tutorial, we will try to understand the MNIST digit classfication dataset. Then we'll understand how to build a CNN network, define an appropiate loss, and train the network with back-propagation. Finally, we will use the trained model to test on a test dataset."
   ]
  },
  {
   "cell_type": "markdown",
   "metadata": {},
   "source": [
    "**Step 1:** We need to import all the required libraries"
   ]
  },
  {
   "cell_type": "code",
   "execution_count": 2,
   "metadata": {},
   "outputs": [
    {
     "name": "stdout",
     "output_type": "stream",
     "text": [
      "('Using PyTorch version:', '0.3.0.post4', 'CUDA:', True)\n"
     ]
    }
   ],
   "source": [
    "%matplotlib inline\n",
    "\n",
    "import torch\n",
    "import torch.nn as nn\n",
    "import torch.nn.functional as F\n",
    "import torch.optim as optim\n",
    "from torchvision import datasets, transforms\n",
    "from torch.autograd import Variable\n",
    "\n",
    "import numpy as np\n",
    "import matplotlib.pyplot as plt\n",
    "import seaborn as sns\n",
    "\n",
    "cuda = torch.cuda.is_available()\n",
    "print('Using PyTorch version:', torch.__version__, 'CUDA:', cuda)"
   ]
  },
  {
   "cell_type": "markdown",
   "metadata": {},
   "source": [
    "**Step 2:** We need to load the MNIST data. In this tutorial, we'll be using Pytorch's dataloader to load and format the MNIST dataset. First time we may have to download the dataset, which may take a while. \n",
    "\n",
    "For more details, please refer: \n",
    "- https://pytorch.org/docs/0.3.0/data.html?highlight=dataloader#torch.utils.data.DataLoader\n",
    "- https://pytorch.org/docs/0.3.0/torchvision/datasets.html?highlight=dataset"
   ]
  },
  {
   "cell_type": "code",
   "execution_count": 18,
   "metadata": {},
   "outputs": [],
   "source": [
    "batch_size = 10 # no. of examples to be processed at once on GPU\n",
    "\n",
    "# Define the dataloader\n",
    "train_loader = torch.utils.data.DataLoader(\n",
    "    datasets.MNIST('data', train=True, download=True,\n",
    "                   transform=transforms.Compose([\n",
    "                       transforms.ToTensor(),\n",
    "                       transforms.Normalize((0.1307,), (0.3081,)),\n",
    "                       \n",
    "                   ])),\n",
    "    batch_size=batch_size, shuffle=True)\n",
    "\n",
    "test_loader = torch.utils.data.DataLoader(\n",
    "    datasets.MNIST('data', train=False, transform=transforms.Compose([\n",
    "                       transforms.ToTensor(),\n",
    "                       transforms.Normalize((0.1307,), (0.3081,))\n",
    "                   ])),\n",
    "    batch_size=batch_size, shuffle=False)"
   ]
  },
  {
   "cell_type": "markdown",
   "metadata": {},
   "source": [
    "**Step 3:** Visualize the dataset\n",
    "\n",
    "- MNIST is a simple computer vision dataset. It consists of 28x28 pixel images of handwritten digits\n",
    "- The train and test data are provided via data loaders that provide iterators over the datasets. \n",
    "- The first element of training data (X_train) is a 4th-order tensor of size (batch_size, 1, 28, 28), i.e. it consists of a batch of images of size 1x28x28 pixels. \n",
    "- y_train is a vector containing the correct classes (\"0\", \"1\", ..., \"9\") for each training digit.\n",
    "\n",
    "For more visualizations and to get more insight on the MNIST dataset you may refer to this link: http://colah.github.io/posts/2014-10-Visualizing-MNIST/"
   ]
  },
  {
   "cell_type": "code",
   "execution_count": 19,
   "metadata": {},
   "outputs": [
    {
     "name": "stdout",
     "output_type": "stream",
     "text": [
      "('No. of Training examples:', 60000)\n",
      "('No. of Testing examples:', 10000)\n",
      "('X_train:', torch.Size([10, 1, 28, 28]), 'type:', 'torch.FloatTensor')\n",
      "('y_train:', torch.Size([10]), 'type:', 'torch.LongTensor')\n"
     ]
    }
   ],
   "source": [
    "print(\"No. of Training examples:\", len(train_loader)*batch_size)\n",
    "print(\"No. of Testing examples:\", len(test_loader)*batch_size)\n",
    "for (X_train, y_train) in train_loader:\n",
    "    print('X_train:', X_train.size(), 'type:', X_train.type())\n",
    "    print('y_train:', y_train.size(), 'type:', y_train.type())\n",
    "    break"
   ]
  },
  {
   "cell_type": "markdown",
   "metadata": {},
   "source": [
    "Here are the first 10 digits"
   ]
  },
  {
   "cell_type": "code",
   "execution_count": 20,
   "metadata": {},
   "outputs": [
    {
     "data": {
      "image/png": "[encoded data removed]",
      "text/plain": [
       "<matplotlib.figure.Figure at 0x7f0c6866a5d0>"
      ]
     },
     "metadata": {},
     "output_type": "display_data"
    }
   ],
   "source": [
    "pltsize=1\n",
    "plt.figure(figsize=(10*pltsize, pltsize))\n",
    "\n",
    "for i in range(10):\n",
    "    plt.subplot(1,10,i+1)\n",
    "    plt.axis('off')\n",
    "    plt.imshow(X_train[i,:,:,:].numpy().reshape(28,28), cmap=\"gray\")\n",
    "    plt.gca().set_title('\\n Class: '+str(y_train[i]))\n",
    "    "
   ]
  },
  {
   "cell_type": "markdown",
   "metadata": {},
   "source": [
    "**Step 3:** Define the MLP network\n",
    "\n",
    "![alt text](mnist_lenet.jpg \"Logo Title Text 1\")\n",
    "\n",
    "\n",
    "- Here, we define a single layer MLP network (you are free to add few more layers)\n",
    "- We have to write the \\__init__() and forward() methods\n",
    "- Pytorch will automatically generate the gradients when we call the backward() method for backward pass\n"
   ]
  },
  {
   "cell_type": "code",
   "execution_count": 23,
   "metadata": {},
   "outputs": [],
   "source": [
    "class LeNet(nn.Module):\n",
    "    def __init__(self):\n",
    "        super(LeNet, self).__init__()\n",
    "        self.conv1 = nn.Conv2d(1, 20, 5)\n",
    "        self.conv2 = nn.Conv2d(20, 50, 5)\n",
    "        self.fc1   = nn.Linear(50*4*4, 500)\n",
    "        self.fc2   = nn.Linear(500, 10)\n",
    "        \n",
    "\n",
    "    def forward(self, x):\n",
    "        out = F.relu(self.conv1(x))\n",
    "        out = F.max_pool2d(out, 2)\n",
    "        out = F.relu(self.conv2(out))\n",
    "        out = F.max_pool2d(out, 2)\n",
    "        out = out.view(out.size(0), -1)\n",
    "        out = F.relu(self.fc1(out))\n",
    "        out = self.fc2(out)\n",
    "        \n",
    "        return out\n",
    "\n",
    "model = LeNet()\n",
    "if cuda:\n",
    "    model.cuda()"
   ]
  },
  {
   "cell_type": "markdown",
   "metadata": {},
   "source": [
    "**Step 4:** Define an optimizer\n",
    "You can change the optimizers. Refer to the following links to know more about the available optimizers- https://pytorch.org/docs/0.3.0/optim.html#algorithms.\n",
    "\n",
    "Here, we are using Stochastic Gradient Descent (SGD)\n"
   ]
  },
  {
   "cell_type": "code",
   "execution_count": 24,
   "metadata": {},
   "outputs": [],
   "source": [
    "optimizer = optim.SGD(model.parameters(), lr=0.01, momentum=0.5)"
   ]
  },
  {
   "cell_type": "markdown",
   "metadata": {},
   "source": [
    "**Step 5:** Define a suitable loss function.\n",
    "\n",
    "    We will be using the Cross-Entropy loss function.     \n",
    "    https://pytorch.org/docs/0.3.0/nn.html?highlight=cross%20entropy#torch.nn.functional.cross_entropy"
   ]
  },
  {
   "cell_type": "code",
   "execution_count": 25,
   "metadata": {},
   "outputs": [],
   "source": [
    "loss_func = nn.CrossEntropyLoss()"
   ]
  },
  {
   "cell_type": "markdown",
   "metadata": {},
   "source": [
    "**Step 6:** Training method. We will use this method to train our model"
   ]
  },
  {
   "cell_type": "code",
   "execution_count": 26,
   "metadata": {},
   "outputs": [],
   "source": [
    "def train(epoch, log_interval=1000):\n",
    "    model.train()\n",
    "    for batch_idx, (data, target) in enumerate(train_loader):\n",
    "        if cuda:\n",
    "            data, target = data.cuda(), target.cuda()\n",
    "        data, target = Variable(data), Variable(target)\n",
    "        optimizer.zero_grad()\n",
    "        output = model(data)\n",
    "        loss = loss_func(output, target)\n",
    "        loss.backward()\n",
    "        optimizer.step()\n",
    "        if batch_idx % log_interval == 0:\n",
    "            print('Train Epoch: {} [{}/{} ({:.0f}%)]\\tLoss: {:.6f}'.format(\n",
    "                epoch, batch_idx * len(data), len(train_loader.dataset),\n",
    "                100. * batch_idx / len(train_loader), loss.data[0]))"
   ]
  },
  {
   "cell_type": "code",
   "execution_count": 29,
   "metadata": {},
   "outputs": [],
   "source": [
    "def test(loss_vector, accuracy_vector):\n",
    "    model.eval()\n",
    "    val_loss, correct = 0, 0\n",
    "    for data, target in test_loader:\n",
    "        if cuda:\n",
    "            data, target = data.cuda(), target.cuda()\n",
    "        data, target = Variable(data), Variable(target)\n",
    "        output = model(data)\n",
    "        val_loss += loss_func(output, target).data[0]\n",
    "        pred = output.data.max(1)[1] # get the index of the max log-probability\n",
    "        correct += pred.eq(target.data).cpu().sum()\n",
    "\n",
    "    val_loss /= len(test_loader)\n",
    "    loss_vector.append(val_loss)\n",
    "\n",
    "    accuracy = 100. * correct / len(test_loader.dataset)\n",
    "    accuracy_vector.append(accuracy)\n",
    "    \n",
    "    print('\\nValidation set: Average loss: {:.4f}, Accuracy: {}/{} ({:.4f}%)\\n'.format(\n",
    "        val_loss, correct, len(test_loader.dataset), accuracy))"
   ]
  },
  {
   "cell_type": "markdown",
   "metadata": {},
   "source": [
    "**Step 7:** Now, we are ready to train our first ever modelusing the train() function. \n",
    "\n",
    "Epoch: An epoch means  one pass through the whole training data. After each epoch, we'll evaluate our model on the test dataset."
   ]
  },
  {
   "cell_type": "code",
   "execution_count": 30,
   "metadata": {},
   "outputs": [
    {
     "name": "stdout",
     "output_type": "stream",
     "text": [
      "Train Epoch: 1 [0/60000 (0%)]\tLoss: 0.001579\n",
      "Train Epoch: 1 [10000/60000 (17%)]\tLoss: 0.000044\n",
      "Train Epoch: 1 [20000/60000 (33%)]\tLoss: 0.000240\n",
      "Train Epoch: 1 [30000/60000 (50%)]\tLoss: 0.000057\n",
      "Train Epoch: 1 [40000/60000 (67%)]\tLoss: 0.000088\n",
      "Train Epoch: 1 [50000/60000 (83%)]\tLoss: 0.000002\n",
      "\n",
      "Validation set: Average loss: 0.0298, Accuracy: 9923/10000 (99.2300%)\n",
      "\n",
      "Train Epoch: 2 [0/60000 (0%)]\tLoss: 0.000000\n",
      "Train Epoch: 2 [10000/60000 (17%)]\tLoss: 0.000052\n",
      "Train Epoch: 2 [20000/60000 (33%)]\tLoss: 0.000001\n",
      "Train Epoch: 2 [30000/60000 (50%)]\tLoss: 0.000010\n",
      "Train Epoch: 2 [40000/60000 (67%)]\tLoss: 0.000001\n",
      "Train Epoch: 2 [50000/60000 (83%)]\tLoss: 0.005870\n",
      "\n",
      "Validation set: Average loss: 0.0296, Accuracy: 9925/10000 (99.2500%)\n",
      "\n",
      "Train Epoch: 3 [0/60000 (0%)]\tLoss: 0.000010\n",
      "Train Epoch: 3 [10000/60000 (17%)]\tLoss: 0.000008\n",
      "Train Epoch: 3 [20000/60000 (33%)]\tLoss: 0.000059\n",
      "Train Epoch: 3 [30000/60000 (50%)]\tLoss: 0.000008\n",
      "Train Epoch: 3 [40000/60000 (67%)]\tLoss: 0.000009\n",
      "Train Epoch: 3 [50000/60000 (83%)]\tLoss: 0.000328\n",
      "\n",
      "Validation set: Average loss: 0.0363, Accuracy: 9914/10000 (99.1400%)\n",
      "\n",
      "Train Epoch: 4 [0/60000 (0%)]\tLoss: 0.000884\n",
      "Train Epoch: 4 [10000/60000 (17%)]\tLoss: 0.000001\n",
      "Train Epoch: 4 [20000/60000 (33%)]\tLoss: 0.000000\n",
      "Train Epoch: 4 [30000/60000 (50%)]\tLoss: 0.000819\n",
      "Train Epoch: 4 [40000/60000 (67%)]\tLoss: 0.000000\n",
      "Train Epoch: 4 [50000/60000 (83%)]\tLoss: 0.000000\n",
      "\n",
      "Validation set: Average loss: 0.0296, Accuracy: 9922/10000 (99.2200%)\n",
      "\n",
      "Train Epoch: 5 [0/60000 (0%)]\tLoss: 0.002735\n",
      "Train Epoch: 5 [10000/60000 (17%)]\tLoss: 0.003006\n",
      "Train Epoch: 5 [20000/60000 (33%)]\tLoss: 0.000011\n",
      "Train Epoch: 5 [30000/60000 (50%)]\tLoss: 0.000106\n",
      "Train Epoch: 5 [40000/60000 (67%)]\tLoss: 0.000000\n",
      "Train Epoch: 5 [50000/60000 (83%)]\tLoss: 0.001031\n",
      "\n",
      "Validation set: Average loss: 0.0284, Accuracy: 9929/10000 (99.2900%)\n",
      "\n",
      "Train Epoch: 6 [0/60000 (0%)]\tLoss: 0.000023\n",
      "Train Epoch: 6 [10000/60000 (17%)]\tLoss: 0.000001\n",
      "Train Epoch: 6 [20000/60000 (33%)]\tLoss: 0.000353\n",
      "Train Epoch: 6 [30000/60000 (50%)]\tLoss: 0.000008\n",
      "Train Epoch: 6 [40000/60000 (67%)]\tLoss: 0.000008\n",
      "Train Epoch: 6 [50000/60000 (83%)]\tLoss: 0.000000\n",
      "\n",
      "Validation set: Average loss: 0.0297, Accuracy: 9929/10000 (99.2900%)\n",
      "\n",
      "Train Epoch: 7 [0/60000 (0%)]\tLoss: 0.000000\n",
      "Train Epoch: 7 [10000/60000 (17%)]\tLoss: 0.000004\n",
      "Train Epoch: 7 [20000/60000 (33%)]\tLoss: 0.000346\n",
      "Train Epoch: 7 [30000/60000 (50%)]\tLoss: 0.000770\n",
      "Train Epoch: 7 [40000/60000 (67%)]\tLoss: 0.000000\n",
      "Train Epoch: 7 [50000/60000 (83%)]\tLoss: 0.000532\n",
      "\n",
      "Validation set: Average loss: 0.0304, Accuracy: 9923/10000 (99.2300%)\n",
      "\n",
      "Train Epoch: 8 [0/60000 (0%)]\tLoss: 0.000000\n",
      "Train Epoch: 8 [10000/60000 (17%)]\tLoss: 0.000001\n",
      "Train Epoch: 8 [20000/60000 (33%)]\tLoss: 0.000059\n",
      "Train Epoch: 8 [30000/60000 (50%)]\tLoss: 0.000000\n",
      "Train Epoch: 8 [40000/60000 (67%)]\tLoss: 0.000013\n",
      "Train Epoch: 8 [50000/60000 (83%)]\tLoss: 0.000000\n",
      "\n",
      "Validation set: Average loss: 0.0305, Accuracy: 9926/10000 (99.2600%)\n",
      "\n",
      "Train Epoch: 9 [0/60000 (0%)]\tLoss: 0.000006\n",
      "Train Epoch: 9 [10000/60000 (17%)]\tLoss: 0.000000\n",
      "Train Epoch: 9 [20000/60000 (33%)]\tLoss: 0.000014\n",
      "Train Epoch: 9 [30000/60000 (50%)]\tLoss: 0.000006\n",
      "Train Epoch: 9 [40000/60000 (67%)]\tLoss: 0.000007\n",
      "Train Epoch: 9 [50000/60000 (83%)]\tLoss: 0.000000\n",
      "\n",
      "Validation set: Average loss: 0.0310, Accuracy: 9930/10000 (99.3000%)\n",
      "\n",
      "Train Epoch: 10 [0/60000 (0%)]\tLoss: 0.000046\n",
      "Train Epoch: 10 [10000/60000 (17%)]\tLoss: 0.000044\n",
      "Train Epoch: 10 [20000/60000 (33%)]\tLoss: 0.000000\n",
      "Train Epoch: 10 [30000/60000 (50%)]\tLoss: 0.000000\n",
      "Train Epoch: 10 [40000/60000 (67%)]\tLoss: 0.000001\n",
      "Train Epoch: 10 [50000/60000 (83%)]\tLoss: 0.000000\n",
      "\n",
      "Validation set: Average loss: 0.0312, Accuracy: 9930/10000 (99.3000%)\n",
      "\n",
      "CPU times: user 2min 41s, sys: 2.84 s, total: 2min 44s\n",
      "Wall time: 2min 42s\n"
     ]
    }
   ],
   "source": [
    "%%time\n",
    "epochs = 10\n",
    "\n",
    "lossv, accv = [], [] # used to keep track of train progress (used in the next cell)\n",
    "for epoch in range(1, epochs + 1):\n",
    "    train(epoch)\n",
    "    test(lossv, accv)\n"
   ]
  },
  {
   "cell_type": "markdown",
   "metadata": {},
   "source": [
    "**Step 8:** Now, as training is done, let us visualizae the training progress graphically"
   ]
  },
  {
   "cell_type": "code",
   "execution_count": 31,
   "metadata": {},
   "outputs": [
    {
     "data": {
      "image/png": "[encoded data removed]",
      "text/plain": [
       "<matplotlib.figure.Figure at 0x7f0c6864d750>"
      ]
     },
     "metadata": {},
     "output_type": "display_data"
    },
    {
     "data": {
      "image/png": "[encoded data removed]",
      "text/plain": [
       "<matplotlib.figure.Figure at 0x7f0c641591d0>"
      ]
     },
     "metadata": {},
     "output_type": "display_data"
    }
   ],
   "source": [
    "plt.figure(figsize=(5,3))\n",
    "plt.plot(np.arange(1,epochs+1), lossv)\n",
    "plt.title('validation loss')\n",
    "\n",
    "plt.figure(figsize=(5,3))\n",
    "plt.plot(np.arange(1,epochs+1), accv)\n",
    "plt.title('validation accuracy');\n"
   ]
  },
  {
   "cell_type": "code",
   "execution_count": 32,
   "metadata": {},
   "outputs": [
    {
     "data": {
      "image/png": "[encoded data removed]",
      "text/plain": [
       "<matplotlib.figure.Figure at 0x7f0c641e0610>"
      ]
     },
     "metadata": {},
     "output_type": "display_data"
    }
   ],
   "source": [
    "pltsize=1\n",
    "plt.figure(figsize=(10*pltsize, pltsize))\n",
    "\n",
    "X_test, y_test = iter(test_loader).next()\n",
    "predicted_labels = model(Variable(X_test.cuda()))\n",
    "                         \n",
    "for i in range(10):\n",
    "    plt.subplot(1,10,i+1)\n",
    "    plt.axis('off')\n",
    "    plt.imshow(X_test[i,:,:,:].numpy().reshape(28,28), cmap=\"gray\")\n",
    "    plt.gca().set_title('\\n Class: '+str(predicted_labels.data.max(1)[1][i]))"
   ]
  },
  {
   "cell_type": "code",
   "execution_count": null,
   "metadata": {},
   "outputs": [],
   "source": []
  }
 ],
 "metadata": {
  "kernelspec": {
   "display_name": "Python 2",
   "language": "python",
   "name": "python2"
  },
  "language_info": {
   "codemirror_mode": {
    "name": "ipython",
    "version": 2
   },
   "file_extension": ".py",
   "mimetype": "text/x-python",
   "name": "python",
   "nbconvert_exporter": "python",
   "pygments_lexer": "ipython2",
   "version": "2.7.12"
  }
 },
 "nbformat": 4,
 "nbformat_minor": 2
}
